{
 "cells": [
  {
   "cell_type": "markdown",
   "metadata": {},
   "source": [
    "##Cargando las variables"
   ]
  },
  {
   "cell_type": "code",
   "execution_count": 3,
   "metadata": {},
   "outputs": [
    {
     "name": "stdout",
     "output_type": "stream",
     "text": [
      "Contenido completo del archivo:\n",
      "01 date: Fecha en MM-DD-AAAA\n",
      "02 day: DÃ­a de la semana\n",
      "03 quarter: Una porciÃ³n del mes. Un mes se dividiÃ³ entre 4 y 5 partes.\n",
      "04 department: Departamento asociado a la instancia\n",
      "05 team_no: nÃºmero de equipo asociado con la instancia\n",
      "06 no_of_workers: NÃºmero de trabajadores en cada equipo\n",
      "07 no_of_style_change: NÃºmero de cambios en el estilo de un producto en particular\n",
      "08 target_productivity: Productividad objetivo establecida para cada equipo para cada dÃ­a.\n",
      "09 smv: Valor de minutos estÃ¡ndar, es el tiempo asignado para una tarea\n",
      "10 wip: Trabajo en progreso. Incluye la cantidad de elementos sin terminar.\n",
      "11 over_time: Representa la cantidad de tiempo extra de cada equipo en minutos.\n",
      "12 incentive: Representa la cantidad de incentivo financiero (en unidades monetarias).\n",
      "13 idle_time: La cantidad de tiempo durante el cual la producciÃ³n estuvo interrumpida.\n",
      "14 idle_men: El nÃºmero de trabajadores que estaban inactivos debido a la interrupciÃ³n de la producciÃ³n.\n",
      "15 actual_productivity: El % real de productividad que entregaron los trabajadores. VarÃ­a de 0 a 1.\n",
      "\n",
      "\n"
     ]
    }
   ],
   "source": [
    "with open('data.txt', 'r') as file:\n",
    "    data = file.read()\n",
    "\n",
    "with open('variables.txt', 'r') as file:\n",
    "    variables = file.read()\n",
    "\n",
    "print(\"Contenido completo del archivo:\")\n",
    "print(variables)"
   ]
  }
 ],
 "metadata": {
  "kernelspec": {
   "display_name": "Python 3",
   "language": "python",
   "name": "python3"
  },
  "language_info": {
   "codemirror_mode": {
    "name": "ipython",
    "version": 3
   },
   "file_extension": ".py",
   "mimetype": "text/x-python",
   "name": "python",
   "nbconvert_exporter": "python",
   "pygments_lexer": "ipython3",
   "version": "3.11.7"
  }
 },
 "nbformat": 4,
 "nbformat_minor": 2
}
